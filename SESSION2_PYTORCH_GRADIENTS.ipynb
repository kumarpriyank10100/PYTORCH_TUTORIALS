{
 "cells": [
  {
   "cell_type": "markdown",
   "id": "4f9a42fa",
   "metadata": {},
   "source": [
    "# 📘 Session 2: PyTorch Autograd & Gradients!\n",
    "Welcome to Session 2! In this notebook, we will explore how PyTorch handles automatic differentiation using the autograd engine. This is the backbone of how neural networks learn.\n"
   ]
  },
  {
   "cell_type": "markdown",
   "id": "fb6834c3",
   "metadata": {},
   "source": [
    "## 🔍 1. Introduction to `autograd`\n",
    "`autograd` is PyTorch's automatic differentiation engine. It powers neural network training by \n",
    "automatically computing the gradients (derivatives) of tensors that have `requires_grad=True`.\n"
   ]
  },
  {
   "cell_type": "code",
   "execution_count": 1,
   "id": "4642187a",
   "metadata": {},
   "outputs": [
    {
     "name": "stdout",
     "output_type": "stream",
     "text": [
      "x: tensor([2., 3.], requires_grad=True)\n"
     ]
    }
   ],
   "source": [
    "import torch\n",
    "\n",
    "# A simple tensor with requires_grad=True\n",
    "x = torch.tensor([2.0, 3.0], requires_grad=True)\n",
    "print(f\"x: {x}\")\n"
   ]
  },
  {
   "cell_type": "markdown",
   "id": "649af5da",
   "metadata": {},
   "source": [
    "## ✍️ 2. Gradient Computation Example\n",
    "Let's compute the gradient of a function with respect to x. Let:\n",
    "\n"
   ]
  },
  {
   "cell_type": "code",
   "execution_count": 5,
   "id": "c4f9e9f2",
   "metadata": {},
   "outputs": [],
   "source": [
    "y = x**2 + 3*x\n"
   ]
  },
  {
   "cell_type": "markdown",
   "id": "8249e3f5",
   "metadata": {},
   "source": [
    "\n",
    "The derivative (dy/dx) should be `2x + 3`.\n"
   ]
  },
  {
   "cell_type": "code",
   "execution_count": 6,
   "id": "1c370cb7",
   "metadata": {},
   "outputs": [
    {
     "name": "stdout",
     "output_type": "stream",
     "text": [
      "y: tensor([10., 18.], grad_fn=<AddBackward0>)\n",
      "dy/dx: tensor([7., 9.])\n"
     ]
    }
   ],
   "source": [
    "# Define a function\n",
    "y = x**2 + 3*x\n",
    "print(\"y:\", y)\n",
    "\n",
    "# Compute gradients (backpropagate)\n",
    "y.sum().backward()  # Use .sum() because y is a vector\n",
    "\n",
    "# Gradients will be stored in x.grad\n",
    "print(\"dy/dx:\", x.grad)  # Expected: 2*x + 3 => [7.0, 9.0]\n"
   ]
  },
  {
   "cell_type": "markdown",
   "id": "0d6e4410",
   "metadata": {},
   "source": [
    "## ❌ 3. Disabling Gradient Tracking\n",
    "Sometimes, during evaluation or inference, we don’t need gradients. Use `torch.no_grad()` to turn off gradient tracking temporarily.\n"
   ]
  },
  {
   "cell_type": "code",
   "execution_count": 7,
   "id": "7f14f691",
   "metadata": {},
   "outputs": [
    {
     "name": "stdout",
     "output_type": "stream",
     "text": [
      "No grad tensor z: tensor([4., 6.])\n",
      "Detached z: tensor([2., 3.])\n"
     ]
    }
   ],
   "source": [
    "with torch.no_grad():\n",
    "    z = x * 2\n",
    "    print(\"No grad tensor z:\", z)\n",
    "\n",
    "# Or use detach to remove a tensor from the computation graph\n",
    "z_detached = x.detach()\n",
    "print(\"Detached z:\", z_detached)\n"
   ]
  },
  {
   "cell_type": "markdown",
   "id": "5c4198bb",
   "metadata": {},
   "source": [
    "## 🧠 4. Visual: A Small Linear Model with Gradient Flow\n",
    "Let's build a mini model: `y = wx + b` and compute gradients with respect to weights and bias.\n"
   ]
  },
  {
   "cell_type": "code",
   "execution_count": 8,
   "id": "570f335e",
   "metadata": {},
   "outputs": [
    {
     "name": "stdout",
     "output_type": "stream",
     "text": [
      "Output y: tensor(2.4000, grad_fn=<AddBackward0>)\n",
      "Gradient of w: tensor([1., 2., 3.])\n",
      "Gradient of b: tensor(1.)\n"
     ]
    }
   ],
   "source": [
    "# Inputs and parameters\n",
    "x = torch.tensor([1.0, 2.0, 3.0])\n",
    "w = torch.tensor([0.1, 0.2, 0.3], requires_grad=True)\n",
    "b = torch.tensor(1.0, requires_grad=True)\n",
    "\n",
    "# Linear model\n",
    "y = torch.dot(w, x) + b\n",
    "print(\"Output y:\", y)\n",
    "\n",
    "# Backpropagation\n",
    "y.backward()\n",
    "print(\"Gradient of w:\", w.grad)\n",
    "print(\"Gradient of b:\", b.grad)\n"
   ]
  },
  {
   "cell_type": "markdown",
   "id": "443709bb",
   "metadata": {},
   "source": [
    "## ✅ Summary\n",
    "- `requires_grad=True` enables gradient tracking.\n",
    "- `.backward()` computes gradients.\n",
    "- Gradients are stored in `.grad` attribute.\n",
    "- Use `.detach()` or `torch.no_grad()` to stop tracking history.\n",
    "\n",
    "You're now ready to understand how training works in deep learning models! 🚀\n"
   ]
  }
 ],
 "metadata": {
  "kernelspec": {
   "display_name": ".venv",
   "language": "python",
   "name": "python3"
  },
  "language_info": {
   "codemirror_mode": {
    "name": "ipython",
    "version": 3
   },
   "file_extension": ".py",
   "mimetype": "text/x-python",
   "name": "python",
   "nbconvert_exporter": "python",
   "pygments_lexer": "ipython3",
   "version": "3.12.4"
  }
 },
 "nbformat": 4,
 "nbformat_minor": 5
}
