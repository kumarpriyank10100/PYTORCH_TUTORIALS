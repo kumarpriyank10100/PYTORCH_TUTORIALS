{
 "cells": [
  {
   "cell_type": "markdown",
   "metadata": {},
   "source": [
    "# 📓 Session 1: PyTorch Tensors – Basics\n",
    "#### Author: PRIYANSHU K. GUPTA 🚀"
   ]
  },
  {
   "cell_type": "markdown",
   "id": "ca3741c7",
   "metadata": {},
   "source": [
    "# 🚀 What’s a Tensor?\n",
    "\n",
    " A tensor is just a multi-dimensional array, like:\n",
    " * 1D → vector (e.g., [1, 2, 3])\n",
    " * 2D → matrix (e.g., [[1, 2], [3, 4]])\n",
    " * 3D+ → used for images, videos, audio, etc.\n",
    "\n",
    " In PyTorch, tensors are like NumPy arrays but with GPU support 💪"
   ]
  },
  {
   "cell_type": "code",
   "execution_count": 1,
   "metadata": {},
   "outputs": [
    {
     "name": "stdout",
     "output_type": "stream",
     "text": [
      "PyTorch Version: 2.7.1+cpu\n"
     ]
    }
   ],
   "source": [
    "import torch\n",
    "\n",
    "# ⚙️ Check PyTorch version\n",
    "print(\"PyTorch Version:\", torch.__version__)"
   ]
  },
  {
   "cell_type": "code",
   "execution_count": 3,
   "metadata": {},
   "outputs": [
    {
     "name": "stdout",
     "output_type": "stream",
     "text": [
      "\n",
      "🔹 Scalar:\n",
      " tensor(5)\n",
      "Shape: torch.Size([])\n",
      "Type: torch.int64\n",
      "\n",
      "🔹 Vector:\n",
      " tensor([1., 2., 3.])\n",
      "\n",
      "🔹 Matrix:\n",
      " tensor([[1., 2.],\n",
      "        [3., 4.]])\n",
      "\n",
      "🔹 3D Tensor:\n",
      " tensor([[[ 0.1854, -0.3776,  1.6905, -0.7923],\n",
      "         [-2.0667, -1.2677, -0.2489,  1.6181],\n",
      "         [-0.4217, -2.0052,  0.5474,  0.7723]],\n",
      "\n",
      "        [[ 0.7171,  1.6132, -0.6967, -0.1878],\n",
      "         [-0.8830,  1.1567, -0.5219,  0.0782],\n",
      "         [ 1.0139,  0.1732,  0.7319, -0.4477]]])\n"
     ]
    }
   ],
   "source": [
    "# 🧱 1. Creating Tensors\n",
    "\n",
    "# Scalar (0D)\n",
    "scalar = torch.tensor(5)\n",
    "print(\"\\n🔹 Scalar:\\n\", scalar)\n",
    "print(\"Shape:\", scalar.shape)\n",
    "print(\"Type:\", scalar.dtype)\n",
    "\n",
    "# Vector (1D)\n",
    "vector = torch.tensor([1.0, 2.0, 3.0])\n",
    "print(\"\\n🔹 Vector:\\n\", vector)\n",
    "\n",
    "# Matrix (2D)\n",
    "matrix = torch.tensor([[1.0, 2.0], [3.0, 4.0]])\n",
    "print(\"\\n🔹 Matrix:\\n\", matrix)\n",
    "\n",
    "# Tensor (3D)\n",
    "tensor3d = torch.randn(2, 3, 4)\n",
    "print(\"\\n🔹 3D Tensor:\\n\", tensor3d)"
   ]
  },
  {
   "cell_type": "code",
   "execution_count": 4,
   "metadata": {},
   "outputs": [
    {
     "name": "stdout",
     "output_type": "stream",
     "text": [
      "\n",
      "✅ Tensor Attributes:\n",
      "Shape: torch.Size([2, 3, 4])\n",
      "Datatype: torch.float32\n",
      "Device: cpu\n"
     ]
    }
   ],
   "source": [
    "# 📐 2. Tensor Attributes\n",
    "print(\"\\n✅ Tensor Attributes:\")\n",
    "print(\"Shape:\", tensor3d.shape)\n",
    "print(\"Datatype:\", tensor3d.dtype)\n",
    "print(\"Device:\", tensor3d.device)"
   ]
  },
  {
   "cell_type": "code",
   "execution_count": 5,
   "metadata": {},
   "outputs": [
    {
     "name": "stdout",
     "output_type": "stream",
     "text": [
      "\n",
      "🔧 Basic Ops:\n",
      "Addition: tensor([5., 7., 9.])\n",
      "Subtraction: tensor([-3., -3., -3.])\n",
      "Multiplication: tensor([ 4., 10., 18.])\n",
      "Division: tensor([0.2500, 0.4000, 0.5000])\n",
      "\n",
      "📍 Dot Product: tensor(32.)\n",
      "📏 Mean: tensor(2.)\n",
      "💠 Matrix Multiplication:\n",
      " tensor([[ 5., 11.],\n",
      "        [11., 25.]])\n"
     ]
    }
   ],
   "source": [
    "# 🔁 3. Tensor Operations\n",
    "\n",
    "a = torch.tensor([1.0, 2.0, 3.0])\n",
    "b = torch.tensor([4.0, 5.0, 6.0])\n",
    "\n",
    "print(\"\\n🔧 Basic Ops:\")\n",
    "print(\"Addition:\", a + b)\n",
    "print(\"Subtraction:\", a - b)\n",
    "print(\"Multiplication:\", a * b)\n",
    "print(\"Division:\", a / b)\n",
    "\n",
    "print(\"\\n📍 Dot Product:\", torch.dot(a, b))\n",
    "print(\"📏 Mean:\", torch.mean(a))\n",
    "print(\"💠 Matrix Multiplication:\\n\", torch.matmul(matrix, matrix.T))"
   ]
  },
  {
   "cell_type": "code",
   "execution_count": 6,
   "metadata": {},
   "outputs": [
    {
     "name": "stdout",
     "output_type": "stream",
     "text": [
      "\n",
      "🔄 Original Tensor: tensor([0, 1, 2, 3, 4, 5, 6, 7, 8])\n",
      "Reshaped (3x3):\n",
      " tensor([[0, 1, 2],\n",
      "        [3, 4, 5],\n",
      "        [6, 7, 8]])\n",
      "Flattened: tensor([0, 1, 2, 3, 4, 5, 6, 7, 8])\n"
     ]
    }
   ],
   "source": [
    "# 🔄 4. Reshaping Tensors\n",
    "\n",
    "x = torch.arange(9)\n",
    "print(\"\\n🔄 Original Tensor:\", x)\n",
    "\n",
    "reshaped = x.view(3, 3)\n",
    "print(\"Reshaped (3x3):\\n\", reshaped)\n",
    "\n",
    "flattened = reshaped.flatten()\n",
    "print(\"Flattened:\", flattened)"
   ]
  },
  {
   "cell_type": "code",
   "execution_count": 7,
   "metadata": {},
   "outputs": [
    {
     "name": "stdout",
     "output_type": "stream",
     "text": [
      "\n",
      "⚠️ CUDA not available. Running on CPU.\n"
     ]
    }
   ],
   "source": [
    "# 🖥️ 5. Using GPU (if available)\n",
    "\n",
    "if torch.cuda.is_available():\n",
    "    print(\"\\n🔥 CUDA is available! Moving tensor to GPU.\")\n",
    "    vector_gpu = vector.to('cuda')\n",
    "    print(\"Tensor on GPU:\", vector_gpu)\n",
    "else:\n",
    "    print(\"\\n⚠️ CUDA not available. Running on CPU.\")"
   ]
  },
  {
   "cell_type": "code",
   "execution_count": 8,
   "metadata": {},
   "outputs": [
    {
     "name": "stdout",
     "output_type": "stream",
     "text": [
      "\n",
      "🧪 Task: Create 4x4 tensor and calculate mean & flatten\n",
      "Random Matrix:\n",
      " tensor([[-0.3466, -0.2883,  1.3362, -0.0751],\n",
      "        [ 0.2694,  0.1599,  0.3189,  0.9459],\n",
      "        [ 1.3293, -1.9539,  0.0970, -0.6835],\n",
      "        [-0.8377, -0.8055,  0.4814,  0.3511]])\n",
      "Mean along dim=0: tensor([ 0.1036, -0.7220,  0.5584,  0.1346])\n",
      "Mean along dim=1: tensor([ 0.1565,  0.4235, -0.3028, -0.2027])\n",
      "Flattened: tensor([-0.3466, -0.2883,  1.3362, -0.0751,  0.2694,  0.1599,  0.3189,  0.9459,\n",
      "         1.3293, -1.9539,  0.0970, -0.6835, -0.8377, -0.8055,  0.4814,  0.3511])\n"
     ]
    }
   ],
   "source": [
    "# 🧪 6. Mini Practice Task\n",
    "\n",
    "print(\"\\n🧪 Task: Create 4x4 tensor and calculate mean & flatten\")\n",
    "\n",
    "mat = torch.randn(4, 4)\n",
    "print(\"Random Matrix:\\n\", mat)\n",
    "print(\"Mean along dim=0:\", mat.mean(dim=0))\n",
    "print(\"Mean along dim=1:\", mat.mean(dim=1))\n",
    "print(\"Flattened:\", mat.flatten())"
   ]
  }
 ],
 "metadata": {
  "kernelspec": {
   "display_name": ".venv",
   "language": "python",
   "name": "python3"
  },
  "language_info": {
   "codemirror_mode": {
    "name": "ipython",
    "version": 3
   },
   "file_extension": ".py",
   "mimetype": "text/x-python",
   "name": "python",
   "nbconvert_exporter": "python",
   "pygments_lexer": "ipython3",
   "version": "3.12.4"
  }
 },
 "nbformat": 4,
 "nbformat_minor": 5
}
